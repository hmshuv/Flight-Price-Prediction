{
 "cells": [
  {
   "cell_type": "markdown",
   "id": "c1ae162a-7f6b-4f32-b5bf-3fd3d2522c71",
   "metadata": {},
   "source": [
    "# Flight Price Prediction Data Set"
   ]
  },
  {
   "cell_type": "markdown",
   "id": "8a47043d-4004-4aa6-bf8b-ef75db25cea4",
   "metadata": {},
   "source": [
    "### EDA + Feature Engineering "
   ]
  },
  {
   "cell_type": "code",
   "execution_count": null,
   "id": "3f26a0da-ed8a-483b-8479-6c9bf8aac7d1",
   "metadata": {},
   "outputs": [],
   "source": [
    "import pandas as pd\n",
    "import numpy as np\n",
    "import seaborn as sns\n",
    "import matplotlib.pyplot as plt\n",
    "%in"
   ]
  }
 ],
 "metadata": {
  "kernelspec": {
   "display_name": "Python 3 (ipykernel)",
   "language": "python",
   "name": "python3"
  },
  "language_info": {
   "codemirror_mode": {
    "name": "ipython",
    "version": 3
   },
   "file_extension": ".py",
   "mimetype": "text/x-python",
   "name": "python",
   "nbconvert_exporter": "python",
   "pygments_lexer": "ipython3",
   "version": "3.12.4"
  }
 },
 "nbformat": 4,
 "nbformat_minor": 5
}
